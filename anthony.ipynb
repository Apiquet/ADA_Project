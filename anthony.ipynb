{
 "cells": [
  {
   "cell_type": "markdown",
   "metadata": {},
   "source": [
    "### Animated map which displays the protests locations in sequence\n",
    "With:\n",
    "- ##### <u> SQLDATE </u>\n",
    "- ##### <u> ActionGeo_Lat </u>\n",
    "- ##### <u> ActionGeo_Long </u>"
   ]
  },
  {
   "cell_type": "code",
   "execution_count": 1,
   "metadata": {},
   "outputs": [],
   "source": [
    "from google.cloud import bigquery\n",
    "import pandas as pd\n",
    "import numpy as np\n",
    "import os\n",
    "from IPython.core.display import display, HTML\n",
    "from functions.animated_maps_functions import updating_js_script\n",
    "from functions.animated_maps_functions import converting_count_to_color\n",
    "from functions.animated_maps_functions import adding_count_columns\n",
    "from functions.animated_maps_functions import getting_appropriate_format_df_for_js\n",
    "from functions.dataframe_functions import highlight_text\n",
    "\n",
    "import matplotlib.pyplot as plt\n",
    "\n",
    "\n",
    "DATA_PATH = \"data/\"\n",
    "LEAFLET_PATH = 'animated_maps/'\n",
    "WORLD_MAP_TYPE_PATH = LEAFLET_PATH + 'world_map_type/'\n",
    "WORLD_MAP_FREQ_PATH = LEAFLET_PATH + 'world_map_freq/'\n",
    "COUNTRY_MAP_PATH = LEAFLET_PATH + 'individual_country_map/'\n",
    "\n",
    "os.environ[\"GOOGLE_APPLICATION_CREDENTIALS\"] = 'C:\\\\Users\\\\antho\\\\Downloads\\\\adafinalproject-b2214ea058a4.json'\n",
    "bigquery_client = bigquery.Client()"
   ]
  },
  {
   "cell_type": "code",
   "execution_count": 2,
   "metadata": {},
   "outputs": [
    {
     "name": "stdout",
     "output_type": "stream",
     "text": [
      "The number of protests we got is: 1769903\n"
     ]
    }
   ],
   "source": [
    "#Fetching data from GDELT\n",
    "## BIG DATA, 3 000 000 rows\n",
    "\n",
    "if os.path.isfile(DATA_PATH + 'protests_location.csv') :\n",
    "    #If we already saved the data, don't run the query again, just get the data from the file saved previously\n",
    "    protests_df_location = pd.read_csv(DATA_PATH + 'protests_location.csv')\n",
    "else:\n",
    "    #query to get the date and the location of the protest events\n",
    "    #Remark: '14%' filters the protest events because they all start by '14'\n",
    "    query_protests_location = bigquery_client.query(\n",
    "        \"\"\"SELECT SQLDATE, ActionGeo_Lat, ActionGeo_Long, EventCode, ActionGeo_FullName  FROM `gdelt-bq.gdeltv2.events` \n",
    "        WHERE EventCode LIKE '14%' \"\"\")\n",
    "    protests_df_location = query_protests_location.result().to_dataframe()\n",
    "    # Write down a csv file\n",
    "    protests_df_location.to_csv(DATA_PATH + 'protests_location.csv', index=False)\n",
    "protests_df_location = protests_df_location.dropna()\n",
    "print(\"The number of protests we got is: \" + str(protests_df_location['EventCode'].count()))"
   ]
  },
  {
   "cell_type": "code",
   "execution_count": null,
   "metadata": {},
   "outputs": [],
   "source": []
  },
  {
   "cell_type": "markdown",
   "metadata": {},
   "source": [
    "## Animated world map: visualyzing the kind of protest\n",
    "Displaying a dynamic world map which shows evolution day by day\n",
    "I also allows to see which kind of protest it is thanks to color indicators"
   ]
  },
  {
   "cell_type": "code",
   "execution_count": 3,
   "metadata": {},
   "outputs": [],
   "source": [
    "#Extracting ActionGeo_Lat and ActionGeo_Long\n",
    "protests_without_duplicated_values = protests_df_location\n",
    "#protests_without_duplicated_values['ActionGeo_Lat'] = protests_df_location['ActionGeo_Lat']\n",
    "#protests_without_duplicated_values['ActionGeo_Long'] = protests_df_location['ActionGeo_Long']\n",
    "\n",
    "#Removing duplicated values \n",
    "#The values are not really duplicated, they took place on different day\n",
    "#however we don't want to display a circle within another, we only want to visualyze the kind of protest\n",
    "#we will visualize the frequency on the next two maps\n",
    "protests_without_duplicated_values=protests_without_duplicated_values.drop_duplicates(subset=['ActionGeo_Long', 'ActionGeo_Lat', 'EventCode'], keep=False)\n",
    "protests_without_duplicated_values=protests_without_duplicated_values.sort_values('SQLDATE')\n",
    "date_start = 20140325\n",
    "date_end = 20150800\n",
    "protests_without_duplicated_values = protests_without_duplicated_values[protests_without_duplicated_values.SQLDATE > date_start]\n",
    "protests_without_duplicated_values = protests_without_duplicated_values[protests_without_duplicated_values.SQLDATE < date_end]\n"
   ]
  },
  {
   "cell_type": "code",
   "execution_count": 4,
   "metadata": {},
   "outputs": [],
   "source": [
    "#getting only the first 3 digits of event code because we don't mind the other, they provide useless information for our analysis\n",
    "protests_without_duplicated_values['EventCode']= protests_without_duplicated_values['EventCode'].astype(str)\n",
    "protests_without_duplicated_values['EventCode']= protests_without_duplicated_values['EventCode'].str[0:3]"
   ]
  },
  {
   "cell_type": "code",
   "execution_count": 5,
   "metadata": {},
   "outputs": [],
   "source": [
    "#getting a df in an appropriate format\n",
    "protests_df_for_js = pd.DataFrame()\n",
    "protests_df_for_js[\"coord_for_js\"] = '[' + protests_without_duplicated_values['ActionGeo_Lat'].astype(str) + ',' + protests_without_duplicated_values['ActionGeo_Long'].astype(str) + '],'\n",
    "protests_df_for_js[\"dates\"] = protests_without_duplicated_values['SQLDATE'].astype(str)\n",
    "protests_df_for_js[\"dates\"] = '[' + protests_df_for_js['dates'].str[0:4] + protests_df_for_js['dates'].str[4:6] + protests_df_for_js['dates'].str[6:8] + '],'\n",
    "protests_df_for_js[\"event_code\"] = protests_without_duplicated_values['EventCode'].astype(str)\n",
    "protests_df_for_js[\"event_code\"] = '[' + protests_df_for_js['event_code'] + '],'"
   ]
  },
  {
   "cell_type": "code",
   "execution_count": 6,
   "metadata": {},
   "outputs": [],
   "source": [
    "#Updating the js script to display result on a dynamic world map\n",
    "updating_js_script(protests_df_for_js, WORLD_MAP_TYPE_PATH, markers_speed=0.1)"
   ]
  },
  {
   "cell_type": "code",
   "execution_count": 7,
   "metadata": {},
   "outputs": [
    {
     "data": {
      "text/html": [
       "<h1><a href='animated_maps/world_map_type/index.html' target='_blank'>Animated map that displays protests day by day (Ctrl+Click)</a></h1>"
      ],
      "text/plain": [
       "<IPython.core.display.HTML object>"
      ]
     },
     "metadata": {},
     "output_type": "display_data"
    }
   ],
   "source": [
    "display(HTML(\"<h1><a href='\"+WORLD_MAP_TYPE_PATH+\"index.html' target='_blank'>Animated map that displays protests day by day (Ctrl+Click)</a></h1>\"))"
   ]
  },
  {
   "cell_type": "code",
   "execution_count": null,
   "metadata": {},
   "outputs": [],
   "source": []
  },
  {
   "cell_type": "markdown",
   "metadata": {},
   "source": [
    "## Animated world map: visualyzing the frequency\n",
    "Displaying a dynamic world map which shows how often we get a protest on an area.\n",
    "The color goes from white to green then black. Areas in white color means few protests took place here, black means the opposite."
   ]
  },
  {
   "cell_type": "code",
   "execution_count": 8,
   "metadata": {},
   "outputs": [],
   "source": [
    "date_start = 20150201\n",
    "date_end = 20150220\n",
    "protests_world_wanted = protests_df_location\n",
    "protests_world_wanted = protests_world_wanted[protests_world_wanted.SQLDATE > date_start]\n",
    "protests_world_wanted = protests_world_wanted[protests_world_wanted.SQLDATE < date_end]\n",
    "protests_world_wanted=protests_world_wanted.sort_values('SQLDATE')"
   ]
  },
  {
   "cell_type": "code",
   "execution_count": 9,
   "metadata": {},
   "outputs": [],
   "source": [
    "#getting a dataframe with appropriate format\n",
    "protests_world_wanted_for_js = getting_appropriate_format_df_for_js(protests_world_wanted)"
   ]
  },
  {
   "cell_type": "code",
   "execution_count": 10,
   "metadata": {},
   "outputs": [],
   "source": [
    "#getting the number of time each value was repeted \n",
    "protests_world_wanted_for_js = adding_count_columns(protests_world_wanted_for_js)"
   ]
  },
  {
   "cell_type": "code",
   "execution_count": 11,
   "metadata": {},
   "outputs": [],
   "source": [
    "protests_world_wanted_for_js['colors'] = \"\"\n",
    "max_value = protests_world_wanted_for_js['count'].max()\n",
    "min_value = protests_world_wanted_for_js['count'].min()\n",
    "index = 0\n",
    "for value in protests_world_wanted_for_js['coord_for_js']:\n",
    "    number = protests_world_wanted_for_js['count'].iloc[index]\n",
    "    protests_world_wanted_for_js.iloc[index, protests_world_wanted_for_js.columns.get_loc('colors')] = converting_count_to_color(min_value, max_value, number)\n",
    "    index = index + 1"
   ]
  },
  {
   "cell_type": "code",
   "execution_count": 12,
   "metadata": {},
   "outputs": [],
   "source": [
    "protests_world_wanted_for_js['colors'] = protests_world_wanted_for_js['colors'].astype(str)\n",
    "protests_world_wanted_for_js[\"colors\"] = '[' + protests_world_wanted_for_js['colors'] + '],'\n",
    "for col in protests_world_wanted_for_js:\n",
    "    protests_world_wanted_for_js[col] = protests_world_wanted_for_js[col].astype(str)"
   ]
  },
  {
   "cell_type": "code",
   "execution_count": 13,
   "metadata": {},
   "outputs": [],
   "source": [
    "updating_js_script(protests_world_wanted_for_js, WORLD_MAP_FREQ_PATH, markers_number = 15, markers_speed=500)"
   ]
  },
  {
   "cell_type": "code",
   "execution_count": 14,
   "metadata": {},
   "outputs": [
    {
     "data": {
      "text/html": [
       "<h1><a href='animated_maps/world_map_freq/index.html' target='_blank'>Animated map that displays protests day by day (Ctrl+Click)</a></h1>"
      ],
      "text/plain": [
       "<IPython.core.display.HTML object>"
      ]
     },
     "metadata": {},
     "output_type": "display_data"
    }
   ],
   "source": [
    "display(HTML(\"<h1><a href='\"+WORLD_MAP_FREQ_PATH+\"index.html' target='_blank'>Animated map that displays protests day by day (Ctrl+Click)</a></h1>\"))"
   ]
  },
  {
   "cell_type": "code",
   "execution_count": null,
   "metadata": {},
   "outputs": [],
   "source": []
  },
  {
   "cell_type": "markdown",
   "metadata": {},
   "source": [
    "## Animated map per country\n",
    "Displaying a map focused on a country.\n",
    "This country can be set with the variable in the next cell.\n",
    "The map shows circle with a color code (a different color for each kind of protest with a legend displayed). The circle grows up each time a new protest takes place on the same location."
   ]
  },
  {
   "cell_type": "code",
   "execution_count": 15,
   "metadata": {},
   "outputs": [],
   "source": [
    "country_wanted = \"United States\""
   ]
  },
  {
   "cell_type": "code",
   "execution_count": 16,
   "metadata": {},
   "outputs": [],
   "source": [
    "country_location = pd.read_csv(DATA_PATH + 'country_lat_long.csv')\n",
    "for cln in country_location:\n",
    "    country_location[cln] = country_location[cln].astype(str)\n",
    "country_location['LatLong'] = '['+country_location['Latitude']+','+country_location['Longitude']+']'"
   ]
  },
  {
   "cell_type": "code",
   "execution_count": 17,
   "metadata": {},
   "outputs": [],
   "source": [
    "s = pd.Series(country_location['Country Name'])\n",
    "if country_wanted in s.unique():\n",
    "    latlong = country_location[country_location['Country Name'].str.contains(country_wanted)]['LatLong']\n",
    "    latlong = latlong.iloc[0]\n",
    "else: \n",
    "    print(\"Country wanted doesn't exist\")\n",
    "date_start = 20161108\n",
    "date_end = 20161111"
   ]
  },
  {
   "cell_type": "code",
   "execution_count": 18,
   "metadata": {},
   "outputs": [],
   "source": [
    "protests_wanted = protests_df_location[protests_df_location['ActionGeo_FullName'].str.contains(country_wanted)]\n",
    "protests_wanted = protests_wanted[protests_wanted.SQLDATE > date_start]\n",
    "protests_wanted = protests_wanted[protests_wanted.SQLDATE < date_end]\n",
    "protests_wanted=protests_wanted.sort_values('SQLDATE')\n",
    "protests_wanted['count'] = 0"
   ]
  },
  {
   "cell_type": "code",
   "execution_count": 19,
   "metadata": {},
   "outputs": [],
   "source": [
    "#getting a dataframe with appropriate format\n",
    "protests_wanted_for_js = getting_appropriate_format_df_for_js(protests_wanted)"
   ]
  },
  {
   "cell_type": "code",
   "execution_count": 20,
   "metadata": {},
   "outputs": [],
   "source": [
    "#getting the number of time each value was repeted \n",
    "protests_wanted_for_js = adding_count_columns(protests_wanted_for_js)"
   ]
  },
  {
   "cell_type": "code",
   "execution_count": 21,
   "metadata": {},
   "outputs": [],
   "source": [
    "protests_wanted_for_js['count'] = protests_wanted_for_js['count'].astype(str)\n",
    "protests_wanted_for_js[\"count\"] = '[' + protests_wanted_for_js['count'] + '],'"
   ]
  },
  {
   "cell_type": "code",
   "execution_count": 22,
   "metadata": {},
   "outputs": [],
   "source": [
    "updating_js_script(protests_wanted_for_js, COUNTRY_MAP_PATH, markers_number=7, markers_speed=0.1, zoom=\"5\", LatLong=latlong)"
   ]
  },
  {
   "cell_type": "code",
   "execution_count": 23,
   "metadata": {},
   "outputs": [
    {
     "data": {
      "text/html": [
       "<h1><a href='animated_maps/individual_country_map/index.html' target='_blank'>Animated map which displays protests day by day in United States (Ctrl+Click)</a></h1>"
      ],
      "text/plain": [
       "<IPython.core.display.HTML object>"
      ]
     },
     "metadata": {},
     "output_type": "display_data"
    }
   ],
   "source": [
    "display(HTML(\"<h1><a href='\"+COUNTRY_MAP_PATH+\"index.html' target='_blank'>Animated map which displays protests day by day in \"+ country_wanted + \" (Ctrl+Click)</a></h1>\"))"
   ]
  },
  {
   "cell_type": "code",
   "execution_count": null,
   "metadata": {},
   "outputs": [],
   "source": []
  },
  {
   "cell_type": "markdown",
   "metadata": {},
   "source": [
    "# Where do we have the most protests? Why?"
   ]
  },
  {
   "cell_type": "code",
   "execution_count": 28,
   "metadata": {},
   "outputs": [],
   "source": [
    "protests_ = protests_df_location\n",
    "protests_ = protests_.groupby(['SQLDATE','ActionGeo_FullName']).size().reset_index(name='count').sort_values('count', ascending=False).head(22)"
   ]
  },
  {
   "cell_type": "code",
   "execution_count": 29,
   "metadata": {},
   "outputs": [
    {
     "data": {
      "text/html": [
       "<style  type=\"text/css\" >\n",
       "    #T_a991feb6_fc90_11e8_9c39_7440bb2ded40row0_col1 {\n",
       "            background-color:  gray;\n",
       "        }    #T_a991feb6_fc90_11e8_9c39_7440bb2ded40row2_col1 {\n",
       "            background-color:  gray;\n",
       "        }    #T_a991feb6_fc90_11e8_9c39_7440bb2ded40row4_col1 {\n",
       "            background-color:  gray;\n",
       "        }    #T_a991feb6_fc90_11e8_9c39_7440bb2ded40row8_col1 {\n",
       "            background-color:  gray;\n",
       "        }    #T_a991feb6_fc90_11e8_9c39_7440bb2ded40row9_col1 {\n",
       "            background-color:  gray;\n",
       "        }    #T_a991feb6_fc90_11e8_9c39_7440bb2ded40row10_col1 {\n",
       "            background-color:  gray;\n",
       "        }    #T_a991feb6_fc90_11e8_9c39_7440bb2ded40row13_col1 {\n",
       "            background-color:  gray;\n",
       "        }    #T_a991feb6_fc90_11e8_9c39_7440bb2ded40row14_col1 {\n",
       "            background-color:  gray;\n",
       "        }    #T_a991feb6_fc90_11e8_9c39_7440bb2ded40row16_col1 {\n",
       "            background-color:  gray;\n",
       "        }    #T_a991feb6_fc90_11e8_9c39_7440bb2ded40row20_col1 {\n",
       "            background-color:  gray;\n",
       "        }    #T_a991feb6_fc90_11e8_9c39_7440bb2ded40row21_col1 {\n",
       "            background-color:  gray;\n",
       "        }</style>  \n",
       "<table id=\"T_a991feb6_fc90_11e8_9c39_7440bb2ded40\" > \n",
       "<thead>    <tr> \n",
       "        <th class=\"blank level0\" ></th> \n",
       "        <th class=\"col_heading level0 col0\" >SQLDATE</th> \n",
       "        <th class=\"col_heading level0 col1\" >ActionGeo_FullName</th> \n",
       "        <th class=\"col_heading level0 col2\" >count</th> \n",
       "    </tr></thead> \n",
       "<tbody>    <tr> \n",
       "        <th id=\"T_a991feb6_fc90_11e8_9c39_7440bb2ded40level0_row0\" class=\"row_heading level0 row0\" >300787</th> \n",
       "        <td id=\"T_a991feb6_fc90_11e8_9c39_7440bb2ded40row0_col0\" class=\"data row0 col0\" >20160708</td> \n",
       "        <td id=\"T_a991feb6_fc90_11e8_9c39_7440bb2ded40row0_col1\" class=\"data row0 col1\" >Dallas, Texas, United States</td> \n",
       "        <td id=\"T_a991feb6_fc90_11e8_9c39_7440bb2ded40row0_col2\" class=\"data row0 col2\" >327</td> \n",
       "    </tr>    <tr> \n",
       "        <th id=\"T_a991feb6_fc90_11e8_9c39_7440bb2ded40level0_row1\" class=\"row_heading level0 row1\" >179192</th> \n",
       "        <td id=\"T_a991feb6_fc90_11e8_9c39_7440bb2ded40row1_col0\" class=\"data row1 col0\" >20160104</td> \n",
       "        <td id=\"T_a991feb6_fc90_11e8_9c39_7440bb2ded40row1_col1\" class=\"data row1 col1\" >Riyadh, Ar Riya?, Saudi Arabia</td> \n",
       "        <td id=\"T_a991feb6_fc90_11e8_9c39_7440bb2ded40row1_col2\" class=\"data row1 col2\" >267</td> \n",
       "    </tr>    <tr> \n",
       "        <th id=\"T_a991feb6_fc90_11e8_9c39_7440bb2ded40level0_row2\" class=\"row_heading level0 row2\" >301465</th> \n",
       "        <td id=\"T_a991feb6_fc90_11e8_9c39_7440bb2ded40row2_col0\" class=\"data row2 col0\" >20160709</td> \n",
       "        <td id=\"T_a991feb6_fc90_11e8_9c39_7440bb2ded40row2_col1\" class=\"data row2 col1\" >Dallas, Texas, United States</td> \n",
       "        <td id=\"T_a991feb6_fc90_11e8_9c39_7440bb2ded40row2_col2\" class=\"data row2 col2\" >264</td> \n",
       "    </tr>    <tr> \n",
       "        <th id=\"T_a991feb6_fc90_11e8_9c39_7440bb2ded40level0_row3\" class=\"row_heading level0 row3\" >306192</th> \n",
       "        <td id=\"T_a991feb6_fc90_11e8_9c39_7440bb2ded40row3_col0\" class=\"data row3 col0\" >20160716</td> \n",
       "        <td id=\"T_a991feb6_fc90_11e8_9c39_7440bb2ded40row3_col1\" class=\"data row3 col1\" >Ankara, Ankara, Turkey</td> \n",
       "        <td id=\"T_a991feb6_fc90_11e8_9c39_7440bb2ded40row3_col2\" class=\"data row3 col2\" >252</td> \n",
       "    </tr>    <tr> \n",
       "        <th id=\"T_a991feb6_fc90_11e8_9c39_7440bb2ded40level0_row4\" class=\"row_heading level0 row4\" >492186</th> \n",
       "        <td id=\"T_a991feb6_fc90_11e8_9c39_7440bb2ded40row4_col0\" class=\"data row4 col0\" >20170814</td> \n",
       "        <td id=\"T_a991feb6_fc90_11e8_9c39_7440bb2ded40row4_col1\" class=\"data row4 col1\" >Charlottesville, Virginia, United States</td> \n",
       "        <td id=\"T_a991feb6_fc90_11e8_9c39_7440bb2ded40row4_col2\" class=\"data row4 col2\" >249</td> \n",
       "    </tr>    <tr> \n",
       "        <th id=\"T_a991feb6_fc90_11e8_9c39_7440bb2ded40level0_row5\" class=\"row_heading level0 row5\" >306436</th> \n",
       "        <td id=\"T_a991feb6_fc90_11e8_9c39_7440bb2ded40row5_col0\" class=\"data row5 col0\" >20160716</td> \n",
       "        <td id=\"T_a991feb6_fc90_11e8_9c39_7440bb2ded40row5_col1\" class=\"data row5 col1\" >Istanbul, Istanbul, Turkey</td> \n",
       "        <td id=\"T_a991feb6_fc90_11e8_9c39_7440bb2ded40row5_col2\" class=\"data row5 col2\" >245</td> \n",
       "    </tr>    <tr> \n",
       "        <th id=\"T_a991feb6_fc90_11e8_9c39_7440bb2ded40level0_row6\" class=\"row_heading level0 row6\" >610809</th> \n",
       "        <td id=\"T_a991feb6_fc90_11e8_9c39_7440bb2ded40row6_col0\" class=\"data row6 col0\" >20180618</td> \n",
       "        <td id=\"T_a991feb6_fc90_11e8_9c39_7440bb2ded40row6_col1\" class=\"data row6 col1\" >Skopje, Macedonia (general), Macedonia</td> \n",
       "        <td id=\"T_a991feb6_fc90_11e8_9c39_7440bb2ded40row6_col2\" class=\"data row6 col2\" >243</td> \n",
       "    </tr>    <tr> \n",
       "        <th id=\"T_a991feb6_fc90_11e8_9c39_7440bb2ded40level0_row7\" class=\"row_heading level0 row7\" >178677</th> \n",
       "        <td id=\"T_a991feb6_fc90_11e8_9c39_7440bb2ded40row7_col0\" class=\"data row7 col0\" >20160103</td> \n",
       "        <td id=\"T_a991feb6_fc90_11e8_9c39_7440bb2ded40row7_col1\" class=\"data row7 col1\" >Riyadh, Ar Riya?, Saudi Arabia</td> \n",
       "        <td id=\"T_a991feb6_fc90_11e8_9c39_7440bb2ded40row7_col2\" class=\"data row7 col2\" >223</td> \n",
       "    </tr>    <tr> \n",
       "        <th id=\"T_a991feb6_fc90_11e8_9c39_7440bb2ded40level0_row8\" class=\"row_heading level0 row8\" >492824</th> \n",
       "        <td id=\"T_a991feb6_fc90_11e8_9c39_7440bb2ded40row8_col0\" class=\"data row8 col0\" >20170815</td> \n",
       "        <td id=\"T_a991feb6_fc90_11e8_9c39_7440bb2ded40row8_col1\" class=\"data row8 col1\" >Charlottesville, Virginia, United States</td> \n",
       "        <td id=\"T_a991feb6_fc90_11e8_9c39_7440bb2ded40row8_col2\" class=\"data row8 col2\" >216</td> \n",
       "    </tr>    <tr> \n",
       "        <th id=\"T_a991feb6_fc90_11e8_9c39_7440bb2ded40level0_row9\" class=\"row_heading level0 row9\" >302642</th> \n",
       "        <td id=\"T_a991feb6_fc90_11e8_9c39_7440bb2ded40row9_col0\" class=\"data row9 col0\" >20160711</td> \n",
       "        <td id=\"T_a991feb6_fc90_11e8_9c39_7440bb2ded40row9_col1\" class=\"data row9 col1\" >Dallas, Texas, United States</td> \n",
       "        <td id=\"T_a991feb6_fc90_11e8_9c39_7440bb2ded40row9_col2\" class=\"data row9 col2\" >204</td> \n",
       "    </tr>    <tr> \n",
       "        <th id=\"T_a991feb6_fc90_11e8_9c39_7440bb2ded40level0_row10\" class=\"row_heading level0 row10\" >302037</th> \n",
       "        <td id=\"T_a991feb6_fc90_11e8_9c39_7440bb2ded40row10_col0\" class=\"data row10 col0\" >20160710</td> \n",
       "        <td id=\"T_a991feb6_fc90_11e8_9c39_7440bb2ded40row10_col1\" class=\"data row10 col1\" >Dallas, Texas, United States</td> \n",
       "        <td id=\"T_a991feb6_fc90_11e8_9c39_7440bb2ded40row10_col2\" class=\"data row10 col2\" >203</td> \n",
       "    </tr>    <tr> \n",
       "        <th id=\"T_a991feb6_fc90_11e8_9c39_7440bb2ded40level0_row11\" class=\"row_heading level0 row11\" >611431</th> \n",
       "        <td id=\"T_a991feb6_fc90_11e8_9c39_7440bb2ded40row11_col0\" class=\"data row11 col0\" >20180619</td> \n",
       "        <td id=\"T_a991feb6_fc90_11e8_9c39_7440bb2ded40row11_col1\" class=\"data row11 col1\" >Skopje, Macedonia (general), Macedonia</td> \n",
       "        <td id=\"T_a991feb6_fc90_11e8_9c39_7440bb2ded40row11_col2\" class=\"data row11 col2\" >176</td> \n",
       "    </tr>    <tr> \n",
       "        <th id=\"T_a991feb6_fc90_11e8_9c39_7440bb2ded40level0_row12\" class=\"row_heading level0 row12\" >539773</th> \n",
       "        <td id=\"T_a991feb6_fc90_11e8_9c39_7440bb2ded40row12_col0\" class=\"data row12 col0\" >20180102</td> \n",
       "        <td id=\"T_a991feb6_fc90_11e8_9c39_7440bb2ded40row12_col1\" class=\"data row12 col1\" >Iran</td> \n",
       "        <td id=\"T_a991feb6_fc90_11e8_9c39_7440bb2ded40row12_col2\" class=\"data row12 col2\" >165</td> \n",
       "    </tr>    <tr> \n",
       "        <th id=\"T_a991feb6_fc90_11e8_9c39_7440bb2ded40level0_row13\" class=\"row_heading level0 row13\" >301034</th> \n",
       "        <td id=\"T_a991feb6_fc90_11e8_9c39_7440bb2ded40row13_col0\" class=\"data row13 col0\" >20160708</td> \n",
       "        <td id=\"T_a991feb6_fc90_11e8_9c39_7440bb2ded40row13_col1\" class=\"data row13 col1\" >Minnesota, United States</td> \n",
       "        <td id=\"T_a991feb6_fc90_11e8_9c39_7440bb2ded40row13_col2\" class=\"data row13 col2\" >164</td> \n",
       "    </tr>    <tr> \n",
       "        <th id=\"T_a991feb6_fc90_11e8_9c39_7440bb2ded40level0_row14\" class=\"row_heading level0 row14\" >491701</th> \n",
       "        <td id=\"T_a991feb6_fc90_11e8_9c39_7440bb2ded40row14_col0\" class=\"data row14 col0\" >20170813</td> \n",
       "        <td id=\"T_a991feb6_fc90_11e8_9c39_7440bb2ded40row14_col1\" class=\"data row14 col1\" >Charlottesville, Virginia, United States</td> \n",
       "        <td id=\"T_a991feb6_fc90_11e8_9c39_7440bb2ded40row14_col2\" class=\"data row14 col2\" >158</td> \n",
       "    </tr>    <tr> \n",
       "        <th id=\"T_a991feb6_fc90_11e8_9c39_7440bb2ded40level0_row15\" class=\"row_heading level0 row15\" >179750</th> \n",
       "        <td id=\"T_a991feb6_fc90_11e8_9c39_7440bb2ded40row15_col0\" class=\"data row15 col0\" >20160105</td> \n",
       "        <td id=\"T_a991feb6_fc90_11e8_9c39_7440bb2ded40row15_col1\" class=\"data row15 col1\" >Riyadh, Ar Riya?, Saudi Arabia</td> \n",
       "        <td id=\"T_a991feb6_fc90_11e8_9c39_7440bb2ded40row15_col2\" class=\"data row15 col2\" >153</td> \n",
       "    </tr>    <tr> \n",
       "        <th id=\"T_a991feb6_fc90_11e8_9c39_7440bb2ded40level0_row16\" class=\"row_heading level0 row16\" >493449</th> \n",
       "        <td id=\"T_a991feb6_fc90_11e8_9c39_7440bb2ded40row16_col0\" class=\"data row16 col0\" >20170816</td> \n",
       "        <td id=\"T_a991feb6_fc90_11e8_9c39_7440bb2ded40row16_col1\" class=\"data row16 col1\" >Charlottesville, Virginia, United States</td> \n",
       "        <td id=\"T_a991feb6_fc90_11e8_9c39_7440bb2ded40row16_col2\" class=\"data row16 col2\" >149</td> \n",
       "    </tr>    <tr> \n",
       "        <th id=\"T_a991feb6_fc90_11e8_9c39_7440bb2ded40level0_row17\" class=\"row_heading level0 row17\" >250467</th> \n",
       "        <td id=\"T_a991feb6_fc90_11e8_9c39_7440bb2ded40row17_col0\" class=\"data row17 col0\" >20160422</td> \n",
       "        <td id=\"T_a991feb6_fc90_11e8_9c39_7440bb2ded40row17_col1\" class=\"data row17 col1\" >Skopje, Macedonia (general), Macedonia</td> \n",
       "        <td id=\"T_a991feb6_fc90_11e8_9c39_7440bb2ded40row17_col2\" class=\"data row17 col2\" >147</td> \n",
       "    </tr>    <tr> \n",
       "        <th id=\"T_a991feb6_fc90_11e8_9c39_7440bb2ded40level0_row18\" class=\"row_heading level0 row18\" >510322</th> \n",
       "        <td id=\"T_a991feb6_fc90_11e8_9c39_7440bb2ded40row18_col0\" class=\"data row18 col0\" >20171003</td> \n",
       "        <td id=\"T_a991feb6_fc90_11e8_9c39_7440bb2ded40row18_col1\" class=\"data row18 col1\" >Barcelona, Comunidad Autonoma de Cataluna, Spain</td> \n",
       "        <td id=\"T_a991feb6_fc90_11e8_9c39_7440bb2ded40row18_col2\" class=\"data row18 col2\" >145</td> \n",
       "    </tr>    <tr> \n",
       "        <th id=\"T_a991feb6_fc90_11e8_9c39_7440bb2ded40level0_row19\" class=\"row_heading level0 row19\" >610287</th> \n",
       "        <td id=\"T_a991feb6_fc90_11e8_9c39_7440bb2ded40row19_col0\" class=\"data row19 col0\" >20180617</td> \n",
       "        <td id=\"T_a991feb6_fc90_11e8_9c39_7440bb2ded40row19_col1\" class=\"data row19 col1\" >Skopje, Macedonia (general), Macedonia</td> \n",
       "        <td id=\"T_a991feb6_fc90_11e8_9c39_7440bb2ded40row19_col2\" class=\"data row19 col2\" >144</td> \n",
       "    </tr>    <tr> \n",
       "        <th id=\"T_a991feb6_fc90_11e8_9c39_7440bb2ded40level0_row20\" class=\"row_heading level0 row20\" >303440</th> \n",
       "        <td id=\"T_a991feb6_fc90_11e8_9c39_7440bb2ded40row20_col0\" class=\"data row20 col0\" >20160712</td> \n",
       "        <td id=\"T_a991feb6_fc90_11e8_9c39_7440bb2ded40row20_col1\" class=\"data row20 col1\" >Dallas, Texas, United States</td> \n",
       "        <td id=\"T_a991feb6_fc90_11e8_9c39_7440bb2ded40row20_col2\" class=\"data row20 col2\" >144</td> \n",
       "    </tr>    <tr> \n",
       "        <th id=\"T_a991feb6_fc90_11e8_9c39_7440bb2ded40level0_row21\" class=\"row_heading level0 row21\" >492666</th> \n",
       "        <td id=\"T_a991feb6_fc90_11e8_9c39_7440bb2ded40row21_col0\" class=\"data row21 col0\" >20170814</td> \n",
       "        <td id=\"T_a991feb6_fc90_11e8_9c39_7440bb2ded40row21_col1\" class=\"data row21 col1\" >Virginia, United States</td> \n",
       "        <td id=\"T_a991feb6_fc90_11e8_9c39_7440bb2ded40row21_col2\" class=\"data row21 col2\" >143</td> \n",
       "    </tr></tbody> \n",
       "</table> "
      ],
      "text/plain": [
       "<pandas.io.formats.style.Styler at 0x28a145ec208>"
      ]
     },
     "execution_count": 29,
     "metadata": {},
     "output_type": "execute_result"
    }
   ],
   "source": [
    "protests_.style.apply(highlight_text, subset=['ActionGeo_FullName'], text = 'United States', color = 'gray')"
   ]
  },
  {
   "cell_type": "markdown",
   "metadata": {},
   "source": [
    "We can see that, more than the half took place in the US. Plus, it was mostly aour"
   ]
  },
  {
   "cell_type": "code",
   "execution_count": null,
   "metadata": {},
   "outputs": [],
   "source": []
  }
 ],
 "metadata": {
  "kernelspec": {
   "display_name": "Python 3",
   "language": "python",
   "name": "python3"
  },
  "language_info": {
   "codemirror_mode": {
    "name": "ipython",
    "version": 3
   },
   "file_extension": ".py",
   "mimetype": "text/x-python",
   "name": "python",
   "nbconvert_exporter": "python",
   "pygments_lexer": "ipython3",
   "version": "3.6.5"
  }
 },
 "nbformat": 4,
 "nbformat_minor": 2
}
