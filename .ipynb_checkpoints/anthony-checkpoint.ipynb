{
 "cells": [
  {
   "cell_type": "markdown",
   "metadata": {},
   "source": [
    "### Animated map which displays the protests locations in sequence\n",
    "With:\n",
    "- ##### <u> SQLDATE </u>\n",
    "- ##### <u> ActionGeo_Lat </u>\n",
    "- ##### <u> ActionGeo_Long </u>"
   ]
  },
  {
   "cell_type": "code",
   "execution_count": 2,
   "metadata": {},
   "outputs": [],
   "source": [
    "from google.cloud import bigquery\n",
    "import pandas as pd\n",
    "import numpy as np\n",
    "import os\n",
    "from IPython.core.display import display, HTML\n",
    "from functions.animated_maps_functions import updating_js_script\n",
    "from functions.animated_maps_functions import converting_count_to_color\n",
    "from functions.animated_maps_functions import adding_count_columns\n",
    "from functions.animated_maps_functions import getting_appropriate_format_df_for_js\n",
    "from functions.dataframe_functions import highlight_text\n",
    "\n",
    "import matplotlib.pyplot as plt\n",
    "\n",
    "\n",
    "DATA_PATH = \"data/\"\n",
    "ANIMATED_MAP_PATH = 'maps/animated_maps/'\n",
    "WORLD_MAP_TYPE_PATH = ANIMATED_MAP_PATH + 'world_map_type/'\n",
    "WORLD_MAP_FREQ_PATH = ANIMATED_MAP_PATH + 'world_map_freq/'\n",
    "COUNTRY_MAP_PATH = ANIMATED_MAP_PATH + 'individual_country_map/'\n",
    "\n",
    "os.environ[\"GOOGLE_APPLICATION_CREDENTIALS\"] = 'C:\\\\Users\\\\antho\\\\Downloads\\\\adafinalproject-b2214ea058a4.json'\n",
    "bigquery_client = bigquery.Client()"
   ]
  },
  {
   "cell_type": "code",
   "execution_count": 3,
   "metadata": {},
   "outputs": [
    {
     "name": "stdout",
     "output_type": "stream",
     "text": [
      "The number of protests we got is: 1769903\n"
     ]
    }
   ],
   "source": [
    "#Fetching data from GDELT\n",
    "## BIG DATA, 3 000 000 rows\n",
    "\n",
    "if os.path.isfile(DATA_PATH + 'protests_location.csv') :\n",
    "    #If we already saved the data, don't run the query again, just get the data from the file saved previously\n",
    "    protests_df_location = pd.read_csv(DATA_PATH + 'protests_location.csv')\n",
    "else:\n",
    "    #query to get the date and the location of the protest events\n",
    "    #Remark: '14%' filters the protest events because they all start by '14'\n",
    "    query_protests_location = bigquery_client.query(\n",
    "        \"\"\"SELECT SQLDATE, ActionGeo_Lat, ActionGeo_Long, EventCode, ActionGeo_FullName  FROM `gdelt-bq.gdeltv2.events` \n",
    "        WHERE EventCode LIKE '14%' \"\"\")\n",
    "    protests_df_location = query_protests_location.result().to_dataframe()\n",
    "    # Write down a csv file\n",
    "    protests_df_location.to_csv(DATA_PATH + 'protests_location.csv', index=False)\n",
    "protests_df_location = protests_df_location.dropna()\n",
    "print(\"The number of protests we got is: \" + str(protests_df_location['EventCode'].count()))"
   ]
  },
  {
   "cell_type": "code",
   "execution_count": null,
   "metadata": {},
   "outputs": [],
   "source": []
  },
  {
   "cell_type": "markdown",
   "metadata": {},
   "source": [
    "## Animated world map: visualyzing the kind of protest\n",
    "Displaying a dynamic world map which shows evolution day by day\n",
    "I also allows to see which kind of protest it is thanks to color indicators"
   ]
  },
  {
   "cell_type": "code",
   "execution_count": 4,
   "metadata": {},
   "outputs": [],
   "source": [
    "#Extracting ActionGeo_Lat and ActionGeo_Long\n",
    "protests_without_duplicated_values = protests_df_location\n",
    "#protests_without_duplicated_values['ActionGeo_Lat'] = protests_df_location['ActionGeo_Lat']\n",
    "#protests_without_duplicated_values['ActionGeo_Long'] = protests_df_location['ActionGeo_Long']\n",
    "\n",
    "#Removing duplicated values \n",
    "#The values are not really duplicated, they took place on different day\n",
    "#however we don't want to display a circle within another, we only want to visualyze the kind of protest\n",
    "#we will visualize the frequency on the next two maps\n",
    "protests_without_duplicated_values=protests_without_duplicated_values.drop_duplicates(subset=['ActionGeo_Long', 'ActionGeo_Lat', 'EventCode'], keep=False)\n",
    "protests_without_duplicated_values=protests_without_duplicated_values.sort_values('SQLDATE')\n",
    "date_start = 20140325\n",
    "date_end = 20150800\n",
    "protests_without_duplicated_values = protests_without_duplicated_values[protests_without_duplicated_values.SQLDATE > date_start]\n",
    "protests_without_duplicated_values = protests_without_duplicated_values[protests_without_duplicated_values.SQLDATE < date_end]\n"
   ]
  },
  {
   "cell_type": "code",
   "execution_count": 5,
   "metadata": {},
   "outputs": [],
   "source": [
    "#getting only the first 3 digits of event code because we don't mind the other, they provide useless information for our analysis\n",
    "protests_without_duplicated_values['EventCode']= protests_without_duplicated_values['EventCode'].astype(str)\n",
    "protests_without_duplicated_values['EventCode']= protests_without_duplicated_values['EventCode'].str[0:3]"
   ]
  },
  {
   "cell_type": "code",
   "execution_count": 6,
   "metadata": {},
   "outputs": [],
   "source": [
    "#getting a df in an appropriate format\n",
    "protests_df_for_js = pd.DataFrame()\n",
    "protests_df_for_js[\"coord_for_js\"] = '[' + protests_without_duplicated_values['ActionGeo_Lat'].astype(str) + ',' + protests_without_duplicated_values['ActionGeo_Long'].astype(str) + '],'\n",
    "protests_df_for_js[\"dates\"] = protests_without_duplicated_values['SQLDATE'].astype(str)\n",
    "protests_df_for_js[\"dates\"] = '[' + protests_df_for_js['dates'].str[0:4] + protests_df_for_js['dates'].str[4:6] + protests_df_for_js['dates'].str[6:8] + '],'\n",
    "protests_df_for_js[\"event_code\"] = protests_without_duplicated_values['EventCode'].astype(str)\n",
    "protests_df_for_js[\"event_code\"] = '[' + protests_df_for_js['event_code'] + '],'"
   ]
  },
  {
   "cell_type": "code",
   "execution_count": 7,
   "metadata": {},
   "outputs": [],
   "source": [
    "#Updating the js script to display result on a dynamic world map\n",
    "updating_js_script(protests_df_for_js, WORLD_MAP_TYPE_PATH, markers_speed=0.1)"
   ]
  },
  {
   "cell_type": "code",
   "execution_count": 8,
   "metadata": {},
   "outputs": [
    {
     "data": {
      "text/html": [
       "<h1><a href='maps/animated_maps/world_map_type/index.html' target='_blank'>Animated map that displays protests day by day (Ctrl+Click)</a></h1>"
      ],
      "text/plain": [
       "<IPython.core.display.HTML object>"
      ]
     },
     "metadata": {},
     "output_type": "display_data"
    }
   ],
   "source": [
    "display(HTML(\"<h1><a href='\"+WORLD_MAP_TYPE_PATH+\"index.html' target='_blank'>Animated map that displays protests day by day (Ctrl+Click)</a></h1>\"))"
   ]
  },
  {
   "cell_type": "code",
   "execution_count": null,
   "metadata": {},
   "outputs": [],
   "source": []
  },
  {
   "cell_type": "markdown",
   "metadata": {},
   "source": [
    "## Animated world map: visualyzing the frequency\n",
    "Displaying a dynamic world map which shows how often we get a protest on an area.\n",
    "The color goes from white to green then black. Areas in white color means few protests took place here, black means the opposite."
   ]
  },
  {
   "cell_type": "code",
   "execution_count": 9,
   "metadata": {},
   "outputs": [],
   "source": [
    "date_start = 20150201\n",
    "date_end = 20150220\n",
    "protests_world_wanted = protests_df_location\n",
    "protests_world_wanted = protests_world_wanted[protests_world_wanted.SQLDATE > date_start]\n",
    "protests_world_wanted = protests_world_wanted[protests_world_wanted.SQLDATE < date_end]\n",
    "protests_world_wanted=protests_world_wanted.sort_values('SQLDATE')"
   ]
  },
  {
   "cell_type": "code",
   "execution_count": 10,
   "metadata": {},
   "outputs": [],
   "source": [
    "#getting a dataframe with appropriate format\n",
    "protests_world_wanted_for_js = getting_appropriate_format_df_for_js(protests_world_wanted)"
   ]
  },
  {
   "cell_type": "code",
   "execution_count": 11,
   "metadata": {},
   "outputs": [],
   "source": [
    "#getting the number of time each value was repeted \n",
    "protests_world_wanted_for_js = adding_count_columns(protests_world_wanted_for_js)"
   ]
  },
  {
   "cell_type": "code",
   "execution_count": 12,
   "metadata": {},
   "outputs": [],
   "source": [
    "protests_world_wanted_for_js['colors'] = \"\"\n",
    "max_value = protests_world_wanted_for_js['count'].max()\n",
    "min_value = protests_world_wanted_for_js['count'].min()\n",
    "index = 0\n",
    "for value in protests_world_wanted_for_js['coord_for_js']:\n",
    "    number = protests_world_wanted_for_js['count'].iloc[index]\n",
    "    protests_world_wanted_for_js.iloc[index, protests_world_wanted_for_js.columns.get_loc('colors')] = converting_count_to_color(min_value, max_value, number)\n",
    "    index = index + 1"
   ]
  },
  {
   "cell_type": "code",
   "execution_count": 13,
   "metadata": {},
   "outputs": [],
   "source": [
    "protests_world_wanted_for_js['colors'] = protests_world_wanted_for_js['colors'].astype(str)\n",
    "protests_world_wanted_for_js[\"colors\"] = '[' + protests_world_wanted_for_js['colors'] + '],'\n",
    "for col in protests_world_wanted_for_js:\n",
    "    protests_world_wanted_for_js[col] = protests_world_wanted_for_js[col].astype(str)"
   ]
  },
  {
   "cell_type": "code",
   "execution_count": 14,
   "metadata": {},
   "outputs": [],
   "source": [
    "updating_js_script(protests_world_wanted_for_js, WORLD_MAP_FREQ_PATH, markers_number = 15, markers_speed=500)"
   ]
  },
  {
   "cell_type": "code",
   "execution_count": 15,
   "metadata": {},
   "outputs": [
    {
     "data": {
      "text/html": [
       "<h1><a href='maps/animated_maps/world_map_freq/index.html' target='_blank'>Animated map that displays protests day by day (Ctrl+Click)</a></h1>"
      ],
      "text/plain": [
       "<IPython.core.display.HTML object>"
      ]
     },
     "metadata": {},
     "output_type": "display_data"
    }
   ],
   "source": [
    "display(HTML(\"<h1><a href='\"+WORLD_MAP_FREQ_PATH+\"index.html' target='_blank'>Animated map that displays protests day by day (Ctrl+Click)</a></h1>\"))"
   ]
  },
  {
   "cell_type": "code",
   "execution_count": null,
   "metadata": {},
   "outputs": [],
   "source": []
  },
  {
   "cell_type": "markdown",
   "metadata": {},
   "source": [
    "## Animated map per country\n",
    "Displaying a map focused on a country.\n",
    "This country can be set with the variable in the next cell.\n",
    "The map shows circle with a color code (a different color for each kind of protest with a legend displayed). The circle grows up each time a new protest takes place on the same location."
   ]
  },
  {
   "cell_type": "code",
   "execution_count": 16,
   "metadata": {},
   "outputs": [],
   "source": [
    "country_wanted = \"United States\""
   ]
  },
  {
   "cell_type": "code",
   "execution_count": 17,
   "metadata": {},
   "outputs": [],
   "source": [
    "country_location = pd.read_csv(DATA_PATH + 'country_lat_long.csv')\n",
    "for cln in country_location:\n",
    "    country_location[cln] = country_location[cln].astype(str)\n",
    "country_location['LatLong'] = '['+country_location['Latitude']+','+country_location['Longitude']+']'"
   ]
  },
  {
   "cell_type": "code",
   "execution_count": 18,
   "metadata": {},
   "outputs": [],
   "source": [
    "s = pd.Series(country_location['Country Name'])\n",
    "if country_wanted in s.unique():\n",
    "    latlong = country_location[country_location['Country Name'].str.contains(country_wanted)]['LatLong']\n",
    "    latlong = latlong.iloc[0]\n",
    "else: \n",
    "    print(\"Country wanted doesn't exist\")\n",
    "date_start = 20161108\n",
    "date_end = 20161111"
   ]
  },
  {
   "cell_type": "code",
   "execution_count": 19,
   "metadata": {},
   "outputs": [],
   "source": [
    "protests_wanted = protests_df_location[protests_df_location['ActionGeo_FullName'].str.contains(country_wanted)]\n",
    "protests_wanted = protests_wanted[protests_wanted.SQLDATE > date_start]\n",
    "protests_wanted = protests_wanted[protests_wanted.SQLDATE < date_end]\n",
    "protests_wanted=protests_wanted.sort_values('SQLDATE')\n",
    "protests_wanted['count'] = 0"
   ]
  },
  {
   "cell_type": "code",
   "execution_count": 20,
   "metadata": {},
   "outputs": [],
   "source": [
    "#getting a dataframe with appropriate format\n",
    "protests_wanted_for_js = getting_appropriate_format_df_for_js(protests_wanted)"
   ]
  },
  {
   "cell_type": "code",
   "execution_count": 21,
   "metadata": {},
   "outputs": [],
   "source": [
    "#getting the number of time each value was repeted \n",
    "protests_wanted_for_js = adding_count_columns(protests_wanted_for_js)"
   ]
  },
  {
   "cell_type": "code",
   "execution_count": 22,
   "metadata": {},
   "outputs": [],
   "source": [
    "protests_wanted_for_js['count'] = protests_wanted_for_js['count'].astype(str)\n",
    "protests_wanted_for_js[\"count\"] = '[' + protests_wanted_for_js['count'] + '],'"
   ]
  },
  {
   "cell_type": "code",
   "execution_count": 23,
   "metadata": {},
   "outputs": [],
   "source": [
    "updating_js_script(protests_wanted_for_js, COUNTRY_MAP_PATH, markers_number=7, markers_speed=0.1, zoom=\"5\", LatLong=latlong)"
   ]
  },
  {
   "cell_type": "code",
   "execution_count": 24,
   "metadata": {},
   "outputs": [
    {
     "data": {
      "text/html": [
       "<h1><a href='maps/animated_maps/individual_country_map/index.html' target='_blank'>Animated map which displays protests day by day in United States (Ctrl+Click)</a></h1>"
      ],
      "text/plain": [
       "<IPython.core.display.HTML object>"
      ]
     },
     "metadata": {},
     "output_type": "display_data"
    }
   ],
   "source": [
    "display(HTML(\"<h1><a href='\"+COUNTRY_MAP_PATH+\"index.html' target='_blank'>Animated map which displays protests day by day in \"+ country_wanted + \" (Ctrl+Click)</a></h1>\"))"
   ]
  },
  {
   "cell_type": "code",
   "execution_count": null,
   "metadata": {},
   "outputs": [],
   "source": []
  },
  {
   "cell_type": "markdown",
   "metadata": {},
   "source": [
    "# Where do we have the most protests? Why?"
   ]
  },
  {
   "cell_type": "code",
   "execution_count": 25,
   "metadata": {},
   "outputs": [],
   "source": [
    "protests_ = protests_df_location\n",
    "protests_ = protests_.groupby(['SQLDATE','ActionGeo_FullName']).size().reset_index(name='count').sort_values('count', ascending=False).head(22)"
   ]
  },
  {
   "cell_type": "code",
   "execution_count": 26,
   "metadata": {},
   "outputs": [
    {
     "data": {
      "text/html": [
       "<div>\n",
       "<style scoped>\n",
       "    .dataframe tbody tr th:only-of-type {\n",
       "        vertical-align: middle;\n",
       "    }\n",
       "\n",
       "    .dataframe tbody tr th {\n",
       "        vertical-align: top;\n",
       "    }\n",
       "\n",
       "    .dataframe thead th {\n",
       "        text-align: right;\n",
       "    }\n",
       "</style>\n",
       "<table border=\"1\" class=\"dataframe\">\n",
       "  <thead>\n",
       "    <tr style=\"text-align: right;\">\n",
       "      <th></th>\n",
       "      <th>SQLDATE</th>\n",
       "      <th>ActionGeo_Lat</th>\n",
       "      <th>ActionGeo_Long</th>\n",
       "      <th>EventCode</th>\n",
       "      <th>ActionGeo_FullName</th>\n",
       "    </tr>\n",
       "  </thead>\n",
       "  <tbody>\n",
       "    <tr>\n",
       "      <th>0</th>\n",
       "      <td>20160520</td>\n",
       "      <td>42.50000</td>\n",
       "      <td>19.3000</td>\n",
       "      <td>1411</td>\n",
       "      <td>Montenegro</td>\n",
       "    </tr>\n",
       "    <tr>\n",
       "      <th>1</th>\n",
       "      <td>20160520</td>\n",
       "      <td>42.50000</td>\n",
       "      <td>19.3000</td>\n",
       "      <td>1411</td>\n",
       "      <td>Montenegro</td>\n",
       "    </tr>\n",
       "    <tr>\n",
       "      <th>2</th>\n",
       "      <td>20160520</td>\n",
       "      <td>50.50000</td>\n",
       "      <td>4.7500</td>\n",
       "      <td>1412</td>\n",
       "      <td>Wallonia, Waals Gewest, Belgium</td>\n",
       "    </tr>\n",
       "    <tr>\n",
       "      <th>3</th>\n",
       "      <td>20160520</td>\n",
       "      <td>50.50000</td>\n",
       "      <td>4.7500</td>\n",
       "      <td>1412</td>\n",
       "      <td>Wallonia, Waals Gewest, Belgium</td>\n",
       "    </tr>\n",
       "    <tr>\n",
       "      <th>4</th>\n",
       "      <td>20160520</td>\n",
       "      <td>-1.80409</td>\n",
       "      <td>37.6203</td>\n",
       "      <td>1411</td>\n",
       "      <td>Makueni, Eastern, Kenya</td>\n",
       "    </tr>\n",
       "  </tbody>\n",
       "</table>\n",
       "</div>"
      ],
      "text/plain": [
       "    SQLDATE  ActionGeo_Lat  ActionGeo_Long  EventCode  \\\n",
       "0  20160520       42.50000         19.3000       1411   \n",
       "1  20160520       42.50000         19.3000       1411   \n",
       "2  20160520       50.50000          4.7500       1412   \n",
       "3  20160520       50.50000          4.7500       1412   \n",
       "4  20160520       -1.80409         37.6203       1411   \n",
       "\n",
       "                ActionGeo_FullName  \n",
       "0                       Montenegro  \n",
       "1                       Montenegro  \n",
       "2  Wallonia, Waals Gewest, Belgium  \n",
       "3  Wallonia, Waals Gewest, Belgium  \n",
       "4          Makueni, Eastern, Kenya  "
      ]
     },
     "execution_count": 26,
     "metadata": {},
     "output_type": "execute_result"
    }
   ],
   "source": [
    "protests_df_location.head()"
   ]
  },
  {
   "cell_type": "code",
   "execution_count": 27,
   "metadata": {},
   "outputs": [
    {
     "data": {
      "text/html": [
       "<style  type=\"text/css\" >\n",
       "    #T_e9353d02_fcd3_11e8_a56e_7440bb2ded40row0_col1 {\n",
       "            background-color:  gray;\n",
       "        }    #T_e9353d02_fcd3_11e8_a56e_7440bb2ded40row2_col1 {\n",
       "            background-color:  gray;\n",
       "        }    #T_e9353d02_fcd3_11e8_a56e_7440bb2ded40row4_col1 {\n",
       "            background-color:  gray;\n",
       "        }    #T_e9353d02_fcd3_11e8_a56e_7440bb2ded40row8_col1 {\n",
       "            background-color:  gray;\n",
       "        }    #T_e9353d02_fcd3_11e8_a56e_7440bb2ded40row9_col1 {\n",
       "            background-color:  gray;\n",
       "        }    #T_e9353d02_fcd3_11e8_a56e_7440bb2ded40row10_col1 {\n",
       "            background-color:  gray;\n",
       "        }    #T_e9353d02_fcd3_11e8_a56e_7440bb2ded40row13_col1 {\n",
       "            background-color:  gray;\n",
       "        }    #T_e9353d02_fcd3_11e8_a56e_7440bb2ded40row14_col1 {\n",
       "            background-color:  gray;\n",
       "        }    #T_e9353d02_fcd3_11e8_a56e_7440bb2ded40row16_col1 {\n",
       "            background-color:  gray;\n",
       "        }    #T_e9353d02_fcd3_11e8_a56e_7440bb2ded40row20_col1 {\n",
       "            background-color:  gray;\n",
       "        }    #T_e9353d02_fcd3_11e8_a56e_7440bb2ded40row21_col1 {\n",
       "            background-color:  gray;\n",
       "        }</style>  \n",
       "<table id=\"T_e9353d02_fcd3_11e8_a56e_7440bb2ded40\" > \n",
       "<thead>    <tr> \n",
       "        <th class=\"blank level0\" ></th> \n",
       "        <th class=\"col_heading level0 col0\" >SQLDATE</th> \n",
       "        <th class=\"col_heading level0 col1\" >ActionGeo_FullName</th> \n",
       "        <th class=\"col_heading level0 col2\" >count</th> \n",
       "    </tr></thead> \n",
       "<tbody>    <tr> \n",
       "        <th id=\"T_e9353d02_fcd3_11e8_a56e_7440bb2ded40level0_row0\" class=\"row_heading level0 row0\" >300787</th> \n",
       "        <td id=\"T_e9353d02_fcd3_11e8_a56e_7440bb2ded40row0_col0\" class=\"data row0 col0\" >20160708</td> \n",
       "        <td id=\"T_e9353d02_fcd3_11e8_a56e_7440bb2ded40row0_col1\" class=\"data row0 col1\" >Dallas, Texas, United States</td> \n",
       "        <td id=\"T_e9353d02_fcd3_11e8_a56e_7440bb2ded40row0_col2\" class=\"data row0 col2\" >327</td> \n",
       "    </tr>    <tr> \n",
       "        <th id=\"T_e9353d02_fcd3_11e8_a56e_7440bb2ded40level0_row1\" class=\"row_heading level0 row1\" >179192</th> \n",
       "        <td id=\"T_e9353d02_fcd3_11e8_a56e_7440bb2ded40row1_col0\" class=\"data row1 col0\" >20160104</td> \n",
       "        <td id=\"T_e9353d02_fcd3_11e8_a56e_7440bb2ded40row1_col1\" class=\"data row1 col1\" >Riyadh, Ar Riya?, Saudi Arabia</td> \n",
       "        <td id=\"T_e9353d02_fcd3_11e8_a56e_7440bb2ded40row1_col2\" class=\"data row1 col2\" >267</td> \n",
       "    </tr>    <tr> \n",
       "        <th id=\"T_e9353d02_fcd3_11e8_a56e_7440bb2ded40level0_row2\" class=\"row_heading level0 row2\" >301465</th> \n",
       "        <td id=\"T_e9353d02_fcd3_11e8_a56e_7440bb2ded40row2_col0\" class=\"data row2 col0\" >20160709</td> \n",
       "        <td id=\"T_e9353d02_fcd3_11e8_a56e_7440bb2ded40row2_col1\" class=\"data row2 col1\" >Dallas, Texas, United States</td> \n",
       "        <td id=\"T_e9353d02_fcd3_11e8_a56e_7440bb2ded40row2_col2\" class=\"data row2 col2\" >264</td> \n",
       "    </tr>    <tr> \n",
       "        <th id=\"T_e9353d02_fcd3_11e8_a56e_7440bb2ded40level0_row3\" class=\"row_heading level0 row3\" >306192</th> \n",
       "        <td id=\"T_e9353d02_fcd3_11e8_a56e_7440bb2ded40row3_col0\" class=\"data row3 col0\" >20160716</td> \n",
       "        <td id=\"T_e9353d02_fcd3_11e8_a56e_7440bb2ded40row3_col1\" class=\"data row3 col1\" >Ankara, Ankara, Turkey</td> \n",
       "        <td id=\"T_e9353d02_fcd3_11e8_a56e_7440bb2ded40row3_col2\" class=\"data row3 col2\" >252</td> \n",
       "    </tr>    <tr> \n",
       "        <th id=\"T_e9353d02_fcd3_11e8_a56e_7440bb2ded40level0_row4\" class=\"row_heading level0 row4\" >492186</th> \n",
       "        <td id=\"T_e9353d02_fcd3_11e8_a56e_7440bb2ded40row4_col0\" class=\"data row4 col0\" >20170814</td> \n",
       "        <td id=\"T_e9353d02_fcd3_11e8_a56e_7440bb2ded40row4_col1\" class=\"data row4 col1\" >Charlottesville, Virginia, United States</td> \n",
       "        <td id=\"T_e9353d02_fcd3_11e8_a56e_7440bb2ded40row4_col2\" class=\"data row4 col2\" >249</td> \n",
       "    </tr>    <tr> \n",
       "        <th id=\"T_e9353d02_fcd3_11e8_a56e_7440bb2ded40level0_row5\" class=\"row_heading level0 row5\" >306436</th> \n",
       "        <td id=\"T_e9353d02_fcd3_11e8_a56e_7440bb2ded40row5_col0\" class=\"data row5 col0\" >20160716</td> \n",
       "        <td id=\"T_e9353d02_fcd3_11e8_a56e_7440bb2ded40row5_col1\" class=\"data row5 col1\" >Istanbul, Istanbul, Turkey</td> \n",
       "        <td id=\"T_e9353d02_fcd3_11e8_a56e_7440bb2ded40row5_col2\" class=\"data row5 col2\" >245</td> \n",
       "    </tr>    <tr> \n",
       "        <th id=\"T_e9353d02_fcd3_11e8_a56e_7440bb2ded40level0_row6\" class=\"row_heading level0 row6\" >610809</th> \n",
       "        <td id=\"T_e9353d02_fcd3_11e8_a56e_7440bb2ded40row6_col0\" class=\"data row6 col0\" >20180618</td> \n",
       "        <td id=\"T_e9353d02_fcd3_11e8_a56e_7440bb2ded40row6_col1\" class=\"data row6 col1\" >Skopje, Macedonia (general), Macedonia</td> \n",
       "        <td id=\"T_e9353d02_fcd3_11e8_a56e_7440bb2ded40row6_col2\" class=\"data row6 col2\" >243</td> \n",
       "    </tr>    <tr> \n",
       "        <th id=\"T_e9353d02_fcd3_11e8_a56e_7440bb2ded40level0_row7\" class=\"row_heading level0 row7\" >178677</th> \n",
       "        <td id=\"T_e9353d02_fcd3_11e8_a56e_7440bb2ded40row7_col0\" class=\"data row7 col0\" >20160103</td> \n",
       "        <td id=\"T_e9353d02_fcd3_11e8_a56e_7440bb2ded40row7_col1\" class=\"data row7 col1\" >Riyadh, Ar Riya?, Saudi Arabia</td> \n",
       "        <td id=\"T_e9353d02_fcd3_11e8_a56e_7440bb2ded40row7_col2\" class=\"data row7 col2\" >223</td> \n",
       "    </tr>    <tr> \n",
       "        <th id=\"T_e9353d02_fcd3_11e8_a56e_7440bb2ded40level0_row8\" class=\"row_heading level0 row8\" >492824</th> \n",
       "        <td id=\"T_e9353d02_fcd3_11e8_a56e_7440bb2ded40row8_col0\" class=\"data row8 col0\" >20170815</td> \n",
       "        <td id=\"T_e9353d02_fcd3_11e8_a56e_7440bb2ded40row8_col1\" class=\"data row8 col1\" >Charlottesville, Virginia, United States</td> \n",
       "        <td id=\"T_e9353d02_fcd3_11e8_a56e_7440bb2ded40row8_col2\" class=\"data row8 col2\" >216</td> \n",
       "    </tr>    <tr> \n",
       "        <th id=\"T_e9353d02_fcd3_11e8_a56e_7440bb2ded40level0_row9\" class=\"row_heading level0 row9\" >302642</th> \n",
       "        <td id=\"T_e9353d02_fcd3_11e8_a56e_7440bb2ded40row9_col0\" class=\"data row9 col0\" >20160711</td> \n",
       "        <td id=\"T_e9353d02_fcd3_11e8_a56e_7440bb2ded40row9_col1\" class=\"data row9 col1\" >Dallas, Texas, United States</td> \n",
       "        <td id=\"T_e9353d02_fcd3_11e8_a56e_7440bb2ded40row9_col2\" class=\"data row9 col2\" >204</td> \n",
       "    </tr>    <tr> \n",
       "        <th id=\"T_e9353d02_fcd3_11e8_a56e_7440bb2ded40level0_row10\" class=\"row_heading level0 row10\" >302037</th> \n",
       "        <td id=\"T_e9353d02_fcd3_11e8_a56e_7440bb2ded40row10_col0\" class=\"data row10 col0\" >20160710</td> \n",
       "        <td id=\"T_e9353d02_fcd3_11e8_a56e_7440bb2ded40row10_col1\" class=\"data row10 col1\" >Dallas, Texas, United States</td> \n",
       "        <td id=\"T_e9353d02_fcd3_11e8_a56e_7440bb2ded40row10_col2\" class=\"data row10 col2\" >203</td> \n",
       "    </tr>    <tr> \n",
       "        <th id=\"T_e9353d02_fcd3_11e8_a56e_7440bb2ded40level0_row11\" class=\"row_heading level0 row11\" >611431</th> \n",
       "        <td id=\"T_e9353d02_fcd3_11e8_a56e_7440bb2ded40row11_col0\" class=\"data row11 col0\" >20180619</td> \n",
       "        <td id=\"T_e9353d02_fcd3_11e8_a56e_7440bb2ded40row11_col1\" class=\"data row11 col1\" >Skopje, Macedonia (general), Macedonia</td> \n",
       "        <td id=\"T_e9353d02_fcd3_11e8_a56e_7440bb2ded40row11_col2\" class=\"data row11 col2\" >176</td> \n",
       "    </tr>    <tr> \n",
       "        <th id=\"T_e9353d02_fcd3_11e8_a56e_7440bb2ded40level0_row12\" class=\"row_heading level0 row12\" >539773</th> \n",
       "        <td id=\"T_e9353d02_fcd3_11e8_a56e_7440bb2ded40row12_col0\" class=\"data row12 col0\" >20180102</td> \n",
       "        <td id=\"T_e9353d02_fcd3_11e8_a56e_7440bb2ded40row12_col1\" class=\"data row12 col1\" >Iran</td> \n",
       "        <td id=\"T_e9353d02_fcd3_11e8_a56e_7440bb2ded40row12_col2\" class=\"data row12 col2\" >165</td> \n",
       "    </tr>    <tr> \n",
       "        <th id=\"T_e9353d02_fcd3_11e8_a56e_7440bb2ded40level0_row13\" class=\"row_heading level0 row13\" >301034</th> \n",
       "        <td id=\"T_e9353d02_fcd3_11e8_a56e_7440bb2ded40row13_col0\" class=\"data row13 col0\" >20160708</td> \n",
       "        <td id=\"T_e9353d02_fcd3_11e8_a56e_7440bb2ded40row13_col1\" class=\"data row13 col1\" >Minnesota, United States</td> \n",
       "        <td id=\"T_e9353d02_fcd3_11e8_a56e_7440bb2ded40row13_col2\" class=\"data row13 col2\" >164</td> \n",
       "    </tr>    <tr> \n",
       "        <th id=\"T_e9353d02_fcd3_11e8_a56e_7440bb2ded40level0_row14\" class=\"row_heading level0 row14\" >491701</th> \n",
       "        <td id=\"T_e9353d02_fcd3_11e8_a56e_7440bb2ded40row14_col0\" class=\"data row14 col0\" >20170813</td> \n",
       "        <td id=\"T_e9353d02_fcd3_11e8_a56e_7440bb2ded40row14_col1\" class=\"data row14 col1\" >Charlottesville, Virginia, United States</td> \n",
       "        <td id=\"T_e9353d02_fcd3_11e8_a56e_7440bb2ded40row14_col2\" class=\"data row14 col2\" >158</td> \n",
       "    </tr>    <tr> \n",
       "        <th id=\"T_e9353d02_fcd3_11e8_a56e_7440bb2ded40level0_row15\" class=\"row_heading level0 row15\" >179750</th> \n",
       "        <td id=\"T_e9353d02_fcd3_11e8_a56e_7440bb2ded40row15_col0\" class=\"data row15 col0\" >20160105</td> \n",
       "        <td id=\"T_e9353d02_fcd3_11e8_a56e_7440bb2ded40row15_col1\" class=\"data row15 col1\" >Riyadh, Ar Riya?, Saudi Arabia</td> \n",
       "        <td id=\"T_e9353d02_fcd3_11e8_a56e_7440bb2ded40row15_col2\" class=\"data row15 col2\" >153</td> \n",
       "    </tr>    <tr> \n",
       "        <th id=\"T_e9353d02_fcd3_11e8_a56e_7440bb2ded40level0_row16\" class=\"row_heading level0 row16\" >493449</th> \n",
       "        <td id=\"T_e9353d02_fcd3_11e8_a56e_7440bb2ded40row16_col0\" class=\"data row16 col0\" >20170816</td> \n",
       "        <td id=\"T_e9353d02_fcd3_11e8_a56e_7440bb2ded40row16_col1\" class=\"data row16 col1\" >Charlottesville, Virginia, United States</td> \n",
       "        <td id=\"T_e9353d02_fcd3_11e8_a56e_7440bb2ded40row16_col2\" class=\"data row16 col2\" >149</td> \n",
       "    </tr>    <tr> \n",
       "        <th id=\"T_e9353d02_fcd3_11e8_a56e_7440bb2ded40level0_row17\" class=\"row_heading level0 row17\" >250467</th> \n",
       "        <td id=\"T_e9353d02_fcd3_11e8_a56e_7440bb2ded40row17_col0\" class=\"data row17 col0\" >20160422</td> \n",
       "        <td id=\"T_e9353d02_fcd3_11e8_a56e_7440bb2ded40row17_col1\" class=\"data row17 col1\" >Skopje, Macedonia (general), Macedonia</td> \n",
       "        <td id=\"T_e9353d02_fcd3_11e8_a56e_7440bb2ded40row17_col2\" class=\"data row17 col2\" >147</td> \n",
       "    </tr>    <tr> \n",
       "        <th id=\"T_e9353d02_fcd3_11e8_a56e_7440bb2ded40level0_row18\" class=\"row_heading level0 row18\" >510322</th> \n",
       "        <td id=\"T_e9353d02_fcd3_11e8_a56e_7440bb2ded40row18_col0\" class=\"data row18 col0\" >20171003</td> \n",
       "        <td id=\"T_e9353d02_fcd3_11e8_a56e_7440bb2ded40row18_col1\" class=\"data row18 col1\" >Barcelona, Comunidad Autonoma de Cataluna, Spain</td> \n",
       "        <td id=\"T_e9353d02_fcd3_11e8_a56e_7440bb2ded40row18_col2\" class=\"data row18 col2\" >145</td> \n",
       "    </tr>    <tr> \n",
       "        <th id=\"T_e9353d02_fcd3_11e8_a56e_7440bb2ded40level0_row19\" class=\"row_heading level0 row19\" >610287</th> \n",
       "        <td id=\"T_e9353d02_fcd3_11e8_a56e_7440bb2ded40row19_col0\" class=\"data row19 col0\" >20180617</td> \n",
       "        <td id=\"T_e9353d02_fcd3_11e8_a56e_7440bb2ded40row19_col1\" class=\"data row19 col1\" >Skopje, Macedonia (general), Macedonia</td> \n",
       "        <td id=\"T_e9353d02_fcd3_11e8_a56e_7440bb2ded40row19_col2\" class=\"data row19 col2\" >144</td> \n",
       "    </tr>    <tr> \n",
       "        <th id=\"T_e9353d02_fcd3_11e8_a56e_7440bb2ded40level0_row20\" class=\"row_heading level0 row20\" >303440</th> \n",
       "        <td id=\"T_e9353d02_fcd3_11e8_a56e_7440bb2ded40row20_col0\" class=\"data row20 col0\" >20160712</td> \n",
       "        <td id=\"T_e9353d02_fcd3_11e8_a56e_7440bb2ded40row20_col1\" class=\"data row20 col1\" >Dallas, Texas, United States</td> \n",
       "        <td id=\"T_e9353d02_fcd3_11e8_a56e_7440bb2ded40row20_col2\" class=\"data row20 col2\" >144</td> \n",
       "    </tr>    <tr> \n",
       "        <th id=\"T_e9353d02_fcd3_11e8_a56e_7440bb2ded40level0_row21\" class=\"row_heading level0 row21\" >492666</th> \n",
       "        <td id=\"T_e9353d02_fcd3_11e8_a56e_7440bb2ded40row21_col0\" class=\"data row21 col0\" >20170814</td> \n",
       "        <td id=\"T_e9353d02_fcd3_11e8_a56e_7440bb2ded40row21_col1\" class=\"data row21 col1\" >Virginia, United States</td> \n",
       "        <td id=\"T_e9353d02_fcd3_11e8_a56e_7440bb2ded40row21_col2\" class=\"data row21 col2\" >143</td> \n",
       "    </tr></tbody> \n",
       "</table> "
      ],
      "text/plain": [
       "<pandas.io.formats.style.Styler at 0x15366754940>"
      ]
     },
     "execution_count": 27,
     "metadata": {},
     "output_type": "execute_result"
    }
   ],
   "source": [
    "protests_.style.apply(highlight_text, subset=['ActionGeo_FullName'], text = 'United States', color = 'gray')"
   ]
  },
  {
   "cell_type": "markdown",
   "metadata": {},
   "source": [
    "We can see that, more than the half took place in the US. Plus, it was mostly around 8th July 2016. After some online researches, we found that it was about shooting of Dallas police officers:\n",
    "https://en.wikipedia.org/wiki/2016_shooting_of_Dallas_police_officers"
   ]
  },
  {
   "cell_type": "code",
   "execution_count": null,
   "metadata": {},
   "outputs": [],
   "source": [
    "test = protests_df_location\n",
    "test['SQLDATE'] = test['SQLDATE'].astype(str).str[0:4]\n",
    "test.head()\n",
    "test = test.groupby(['SQLDATE','ActionGeo_FullName']).size().reset_index(name='count').sort_values('count', ascending=False)\n",
    "test = test[test['ActionGeo_FullName'].str.contains('United States')]\n",
    "test.count()"
   ]
  },
  {
   "cell_type": "code",
   "execution_count": null,
   "metadata": {},
   "outputs": [
    {
     "data": {
      "text/plain": [
       "Text(0,0.5,'Score')"
      ]
     },
     "execution_count": 29,
     "metadata": {},
     "output_type": "execute_result"
    }
   ],
   "source": [
    "# libraries and data\n",
    "import matplotlib.pyplot as plt\n",
    "import numpy as np\n",
    "import pandas as pd\n",
    " \n",
    "# Make a data frame\n",
    "df=pd.DataFrame({'x': range(1,11), 'y1': np.random.randn(10), 'y2': np.random.randn(10)+range(1,11), 'y3': np.random.randn(10)+range(11,21), 'y4': np.random.randn(10)+range(6,16), 'y5': np.random.randn(10)+range(4,14)+(0,0,0,0,0,0,0,-3,-8,-6), 'y6': np.random.randn(10)+range(2,12), 'y7': np.random.randn(10)+range(5,15), 'y8': np.random.randn(10)+range(4,14), 'y9': np.random.randn(10)+range(4,14), 'y10': np.random.randn(10)+range(2,12) })\n",
    " \n",
    "# style\n",
    "plt.style.use('seaborn-darkgrid')\n",
    " \n",
    "# create a color palette\n",
    "palette = plt.get_cmap('Set1')\n",
    " \n",
    "# multiple line plot\n",
    "num=0\n",
    "for column in test.drop('SQLDATE', axis=1):\n",
    "    num+=1\n",
    "    plt.plot(test['SQLDATE'], test[column], marker='', color=palette(num), linewidth=1, alpha=0.9, label=column)\n",
    " \n",
    "# Add legend\n",
    "plt.legend(loc=2, ncol=2)\n",
    " \n",
    "# Add titles\n",
    "plt.title(\"A (bad) Spaghetti plot\", loc='left', fontsize=12, fontweight=0, color='orange')\n",
    "plt.xlabel(\"Time\")\n",
    "plt.ylabel(\"Score\")\n"
   ]
  },
  {
   "cell_type": "code",
   "execution_count": 11,
   "metadata": {},
   "outputs": [
    {
     "ename": "TypeError",
     "evalue": "Object of type 'int64' is not JSON serializable",
     "output_type": "error",
     "traceback": [
      "\u001b[1;31m---------------------------------------------------------------------------\u001b[0m",
      "\u001b[1;31mTypeError\u001b[0m                                 Traceback (most recent call last)",
      "\u001b[1;32m<ipython-input-11-949747daa576>\u001b[0m in \u001b[0;36m<module>\u001b[1;34m()\u001b[0m\n\u001b[0;32m     23\u001b[0m       \u001b[0mcolor\u001b[0m\u001b[1;33m=\u001b[0m\u001b[1;34m'crimson'\u001b[0m\u001b[1;33m,\u001b[0m\u001b[1;33m\u001b[0m\u001b[0m\n\u001b[0;32m     24\u001b[0m       \u001b[0mfill\u001b[0m\u001b[1;33m=\u001b[0m\u001b[1;32mTrue\u001b[0m\u001b[1;33m,\u001b[0m\u001b[1;33m\u001b[0m\u001b[0m\n\u001b[1;32m---> 25\u001b[1;33m       \u001b[0mfill_color\u001b[0m\u001b[1;33m=\u001b[0m\u001b[1;34m'#3186cc'\u001b[0m\u001b[1;33m\u001b[0m\u001b[0m\n\u001b[0m\u001b[0;32m     26\u001b[0m    ).add_to(m)\n\u001b[0;32m     27\u001b[0m \u001b[1;33m\u001b[0m\u001b[0m\n",
      "\u001b[1;32m~\\Anaconda3\\lib\\site-packages\\folium-0+unknown-py3.6.egg\\folium\\vector_layers.py\u001b[0m in \u001b[0;36m__init__\u001b[1;34m(self, location, radius, popup, tooltip, **kwargs)\u001b[0m\n\u001b[0;32m    289\u001b[0m                                      tooltip=tooltip)\n\u001b[0;32m    290\u001b[0m         \u001b[0mself\u001b[0m\u001b[1;33m.\u001b[0m\u001b[0m_name\u001b[0m \u001b[1;33m=\u001b[0m \u001b[1;34m'circle'\u001b[0m\u001b[1;33m\u001b[0m\u001b[0m\n\u001b[1;32m--> 291\u001b[1;33m         \u001b[0mself\u001b[0m\u001b[1;33m.\u001b[0m\u001b[0moptions\u001b[0m \u001b[1;33m=\u001b[0m \u001b[0m_parse_options\u001b[0m\u001b[1;33m(\u001b[0m\u001b[0mline\u001b[0m\u001b[1;33m=\u001b[0m\u001b[1;32mFalse\u001b[0m\u001b[1;33m,\u001b[0m \u001b[0mradius\u001b[0m\u001b[1;33m=\u001b[0m\u001b[0mradius\u001b[0m\u001b[1;33m,\u001b[0m \u001b[1;33m**\u001b[0m\u001b[0mkwargs\u001b[0m\u001b[1;33m)\u001b[0m\u001b[1;33m\u001b[0m\u001b[0m\n\u001b[0m\u001b[0;32m    292\u001b[0m \u001b[1;33m\u001b[0m\u001b[0m\n\u001b[0;32m    293\u001b[0m \u001b[1;33m\u001b[0m\u001b[0m\n",
      "\u001b[1;32m~\\Anaconda3\\lib\\site-packages\\folium-0+unknown-py3.6.egg\\folium\\vector_layers.py\u001b[0m in \u001b[0;36m_parse_options\u001b[1;34m(line, radius, **kwargs)\u001b[0m\n\u001b[0;32m    126\u001b[0m     \u001b[0moptions\u001b[0m \u001b[1;33m=\u001b[0m \u001b[0mpath_options\u001b[0m\u001b[1;33m(\u001b[0m\u001b[1;33m**\u001b[0m\u001b[0mkwargs\u001b[0m\u001b[1;33m)\u001b[0m\u001b[1;33m\u001b[0m\u001b[0m\n\u001b[0;32m    127\u001b[0m     \u001b[0moptions\u001b[0m\u001b[1;33m.\u001b[0m\u001b[0mupdate\u001b[0m\u001b[1;33m(\u001b[0m\u001b[0mextra_options\u001b[0m\u001b[1;33m)\u001b[0m\u001b[1;33m\u001b[0m\u001b[0m\n\u001b[1;32m--> 128\u001b[1;33m     \u001b[1;32mreturn\u001b[0m \u001b[0mjson\u001b[0m\u001b[1;33m.\u001b[0m\u001b[0mdumps\u001b[0m\u001b[1;33m(\u001b[0m\u001b[0moptions\u001b[0m\u001b[1;33m,\u001b[0m \u001b[0msort_keys\u001b[0m\u001b[1;33m=\u001b[0m\u001b[1;32mTrue\u001b[0m\u001b[1;33m,\u001b[0m \u001b[0mindent\u001b[0m\u001b[1;33m=\u001b[0m\u001b[1;36m2\u001b[0m\u001b[1;33m)\u001b[0m\u001b[1;33m\u001b[0m\u001b[0m\n\u001b[0m\u001b[0;32m    129\u001b[0m \u001b[1;33m\u001b[0m\u001b[0m\n\u001b[0;32m    130\u001b[0m \u001b[1;33m\u001b[0m\u001b[0m\n",
      "\u001b[1;32m~\\Anaconda3\\lib\\json\\__init__.py\u001b[0m in \u001b[0;36mdumps\u001b[1;34m(obj, skipkeys, ensure_ascii, check_circular, allow_nan, cls, indent, separators, default, sort_keys, **kw)\u001b[0m\n\u001b[0;32m    236\u001b[0m         \u001b[0mcheck_circular\u001b[0m\u001b[1;33m=\u001b[0m\u001b[0mcheck_circular\u001b[0m\u001b[1;33m,\u001b[0m \u001b[0mallow_nan\u001b[0m\u001b[1;33m=\u001b[0m\u001b[0mallow_nan\u001b[0m\u001b[1;33m,\u001b[0m \u001b[0mindent\u001b[0m\u001b[1;33m=\u001b[0m\u001b[0mindent\u001b[0m\u001b[1;33m,\u001b[0m\u001b[1;33m\u001b[0m\u001b[0m\n\u001b[0;32m    237\u001b[0m         \u001b[0mseparators\u001b[0m\u001b[1;33m=\u001b[0m\u001b[0mseparators\u001b[0m\u001b[1;33m,\u001b[0m \u001b[0mdefault\u001b[0m\u001b[1;33m=\u001b[0m\u001b[0mdefault\u001b[0m\u001b[1;33m,\u001b[0m \u001b[0msort_keys\u001b[0m\u001b[1;33m=\u001b[0m\u001b[0msort_keys\u001b[0m\u001b[1;33m,\u001b[0m\u001b[1;33m\u001b[0m\u001b[0m\n\u001b[1;32m--> 238\u001b[1;33m         **kw).encode(obj)\n\u001b[0m\u001b[0;32m    239\u001b[0m \u001b[1;33m\u001b[0m\u001b[0m\n\u001b[0;32m    240\u001b[0m \u001b[1;33m\u001b[0m\u001b[0m\n",
      "\u001b[1;32m~\\Anaconda3\\lib\\json\\encoder.py\u001b[0m in \u001b[0;36mencode\u001b[1;34m(self, o)\u001b[0m\n\u001b[0;32m    199\u001b[0m         \u001b[0mchunks\u001b[0m \u001b[1;33m=\u001b[0m \u001b[0mself\u001b[0m\u001b[1;33m.\u001b[0m\u001b[0miterencode\u001b[0m\u001b[1;33m(\u001b[0m\u001b[0mo\u001b[0m\u001b[1;33m,\u001b[0m \u001b[0m_one_shot\u001b[0m\u001b[1;33m=\u001b[0m\u001b[1;32mTrue\u001b[0m\u001b[1;33m)\u001b[0m\u001b[1;33m\u001b[0m\u001b[0m\n\u001b[0;32m    200\u001b[0m         \u001b[1;32mif\u001b[0m \u001b[1;32mnot\u001b[0m \u001b[0misinstance\u001b[0m\u001b[1;33m(\u001b[0m\u001b[0mchunks\u001b[0m\u001b[1;33m,\u001b[0m \u001b[1;33m(\u001b[0m\u001b[0mlist\u001b[0m\u001b[1;33m,\u001b[0m \u001b[0mtuple\u001b[0m\u001b[1;33m)\u001b[0m\u001b[1;33m)\u001b[0m\u001b[1;33m:\u001b[0m\u001b[1;33m\u001b[0m\u001b[0m\n\u001b[1;32m--> 201\u001b[1;33m             \u001b[0mchunks\u001b[0m \u001b[1;33m=\u001b[0m \u001b[0mlist\u001b[0m\u001b[1;33m(\u001b[0m\u001b[0mchunks\u001b[0m\u001b[1;33m)\u001b[0m\u001b[1;33m\u001b[0m\u001b[0m\n\u001b[0m\u001b[0;32m    202\u001b[0m         \u001b[1;32mreturn\u001b[0m \u001b[1;34m''\u001b[0m\u001b[1;33m.\u001b[0m\u001b[0mjoin\u001b[0m\u001b[1;33m(\u001b[0m\u001b[0mchunks\u001b[0m\u001b[1;33m)\u001b[0m\u001b[1;33m\u001b[0m\u001b[0m\n\u001b[0;32m    203\u001b[0m \u001b[1;33m\u001b[0m\u001b[0m\n",
      "\u001b[1;32m~\\Anaconda3\\lib\\json\\encoder.py\u001b[0m in \u001b[0;36m_iterencode\u001b[1;34m(o, _current_indent_level)\u001b[0m\n\u001b[0;32m    428\u001b[0m             \u001b[1;32myield\u001b[0m \u001b[1;32mfrom\u001b[0m \u001b[0m_iterencode_list\u001b[0m\u001b[1;33m(\u001b[0m\u001b[0mo\u001b[0m\u001b[1;33m,\u001b[0m \u001b[0m_current_indent_level\u001b[0m\u001b[1;33m)\u001b[0m\u001b[1;33m\u001b[0m\u001b[0m\n\u001b[0;32m    429\u001b[0m         \u001b[1;32melif\u001b[0m \u001b[0misinstance\u001b[0m\u001b[1;33m(\u001b[0m\u001b[0mo\u001b[0m\u001b[1;33m,\u001b[0m \u001b[0mdict\u001b[0m\u001b[1;33m)\u001b[0m\u001b[1;33m:\u001b[0m\u001b[1;33m\u001b[0m\u001b[0m\n\u001b[1;32m--> 430\u001b[1;33m             \u001b[1;32myield\u001b[0m \u001b[1;32mfrom\u001b[0m \u001b[0m_iterencode_dict\u001b[0m\u001b[1;33m(\u001b[0m\u001b[0mo\u001b[0m\u001b[1;33m,\u001b[0m \u001b[0m_current_indent_level\u001b[0m\u001b[1;33m)\u001b[0m\u001b[1;33m\u001b[0m\u001b[0m\n\u001b[0m\u001b[0;32m    431\u001b[0m         \u001b[1;32melse\u001b[0m\u001b[1;33m:\u001b[0m\u001b[1;33m\u001b[0m\u001b[0m\n\u001b[0;32m    432\u001b[0m             \u001b[1;32mif\u001b[0m \u001b[0mmarkers\u001b[0m \u001b[1;32mis\u001b[0m \u001b[1;32mnot\u001b[0m \u001b[1;32mNone\u001b[0m\u001b[1;33m:\u001b[0m\u001b[1;33m\u001b[0m\u001b[0m\n",
      "\u001b[1;32m~\\Anaconda3\\lib\\json\\encoder.py\u001b[0m in \u001b[0;36m_iterencode_dict\u001b[1;34m(dct, _current_indent_level)\u001b[0m\n\u001b[0;32m    402\u001b[0m                 \u001b[1;32melse\u001b[0m\u001b[1;33m:\u001b[0m\u001b[1;33m\u001b[0m\u001b[0m\n\u001b[0;32m    403\u001b[0m                     \u001b[0mchunks\u001b[0m \u001b[1;33m=\u001b[0m \u001b[0m_iterencode\u001b[0m\u001b[1;33m(\u001b[0m\u001b[0mvalue\u001b[0m\u001b[1;33m,\u001b[0m \u001b[0m_current_indent_level\u001b[0m\u001b[1;33m)\u001b[0m\u001b[1;33m\u001b[0m\u001b[0m\n\u001b[1;32m--> 404\u001b[1;33m                 \u001b[1;32myield\u001b[0m \u001b[1;32mfrom\u001b[0m \u001b[0mchunks\u001b[0m\u001b[1;33m\u001b[0m\u001b[0m\n\u001b[0m\u001b[0;32m    405\u001b[0m         \u001b[1;32mif\u001b[0m \u001b[0mnewline_indent\u001b[0m \u001b[1;32mis\u001b[0m \u001b[1;32mnot\u001b[0m \u001b[1;32mNone\u001b[0m\u001b[1;33m:\u001b[0m\u001b[1;33m\u001b[0m\u001b[0m\n\u001b[0;32m    406\u001b[0m             \u001b[0m_current_indent_level\u001b[0m \u001b[1;33m-=\u001b[0m \u001b[1;36m1\u001b[0m\u001b[1;33m\u001b[0m\u001b[0m\n",
      "\u001b[1;32m~\\Anaconda3\\lib\\json\\encoder.py\u001b[0m in \u001b[0;36m_iterencode\u001b[1;34m(o, _current_indent_level)\u001b[0m\n\u001b[0;32m    435\u001b[0m                     \u001b[1;32mraise\u001b[0m \u001b[0mValueError\u001b[0m\u001b[1;33m(\u001b[0m\u001b[1;34m\"Circular reference detected\"\u001b[0m\u001b[1;33m)\u001b[0m\u001b[1;33m\u001b[0m\u001b[0m\n\u001b[0;32m    436\u001b[0m                 \u001b[0mmarkers\u001b[0m\u001b[1;33m[\u001b[0m\u001b[0mmarkerid\u001b[0m\u001b[1;33m]\u001b[0m \u001b[1;33m=\u001b[0m \u001b[0mo\u001b[0m\u001b[1;33m\u001b[0m\u001b[0m\n\u001b[1;32m--> 437\u001b[1;33m             \u001b[0mo\u001b[0m \u001b[1;33m=\u001b[0m \u001b[0m_default\u001b[0m\u001b[1;33m(\u001b[0m\u001b[0mo\u001b[0m\u001b[1;33m)\u001b[0m\u001b[1;33m\u001b[0m\u001b[0m\n\u001b[0m\u001b[0;32m    438\u001b[0m             \u001b[1;32myield\u001b[0m \u001b[1;32mfrom\u001b[0m \u001b[0m_iterencode\u001b[0m\u001b[1;33m(\u001b[0m\u001b[0mo\u001b[0m\u001b[1;33m,\u001b[0m \u001b[0m_current_indent_level\u001b[0m\u001b[1;33m)\u001b[0m\u001b[1;33m\u001b[0m\u001b[0m\n\u001b[0;32m    439\u001b[0m             \u001b[1;32mif\u001b[0m \u001b[0mmarkers\u001b[0m \u001b[1;32mis\u001b[0m \u001b[1;32mnot\u001b[0m \u001b[1;32mNone\u001b[0m\u001b[1;33m:\u001b[0m\u001b[1;33m\u001b[0m\u001b[0m\n",
      "\u001b[1;32m~\\Anaconda3\\lib\\json\\encoder.py\u001b[0m in \u001b[0;36mdefault\u001b[1;34m(self, o)\u001b[0m\n\u001b[0;32m    178\u001b[0m         \"\"\"\n\u001b[0;32m    179\u001b[0m         raise TypeError(\"Object of type '%s' is not JSON serializable\" %\n\u001b[1;32m--> 180\u001b[1;33m                         o.__class__.__name__)\n\u001b[0m\u001b[0;32m    181\u001b[0m \u001b[1;33m\u001b[0m\u001b[0m\n\u001b[0;32m    182\u001b[0m     \u001b[1;32mdef\u001b[0m \u001b[0mencode\u001b[0m\u001b[1;33m(\u001b[0m\u001b[0mself\u001b[0m\u001b[1;33m,\u001b[0m \u001b[0mo\u001b[0m\u001b[1;33m)\u001b[0m\u001b[1;33m:\u001b[0m\u001b[1;33m\u001b[0m\u001b[0m\n",
      "\u001b[1;31mTypeError\u001b[0m: Object of type 'int64' is not JSON serializable"
     ]
    }
   ],
   "source": [
    "# import the library\n",
    "import folium\n",
    "import pandas as pd\n",
    " \n",
    "# Make a data frame with dots to show on the map\n",
    "data = pd.DataFrame({\n",
    "   'lat':[-58, 2, 145, 30.32, -4.03, -73.57, 36.82, -38.5],\n",
    "   'lon':[-34, 49, -38, 59.93, 5.33, 45.52, -1.29, -12.97],\n",
    "   'name':['Buenos Aires', 'Paris', 'melbourne', 'St Petersbourg', 'Abidjan', 'Montreal', 'Nairobi', 'Salvador'],\n",
    "   'value':[10,12,40,70,23,43,100,43]\n",
    "})\n",
    "data\n",
    " \n",
    "# Make an empty map\n",
    "m = folium.Map(location=[20,0], tiles=\"Mapbox Bright\", zoom_start=2)\n",
    " \n",
    "# I can add marker one by one on the map\n",
    "for i in range(0,len(data)):\n",
    "   folium.Circle(\n",
    "      location=[data.iloc[i]['lon'], data.iloc[i]['lat']],\n",
    "      popup=data.iloc[i]['name'],\n",
    "      radius=data.iloc[i]['value']*10000,\n",
    "      color='crimson',\n",
    "      fill=True,\n",
    "      fill_color='crimson'\n",
    "   ).add_to(m)\n",
    " \n",
    "# Save it as html\n",
    "m.save('mymap.html')\n"
   ]
  },
  {
   "cell_type": "code",
   "execution_count": 3,
   "metadata": {},
   "outputs": [],
   "source": []
  },
  {
   "cell_type": "code",
   "execution_count": null,
   "metadata": {},
   "outputs": [],
   "source": []
  }
 ],
 "metadata": {
  "kernelspec": {
   "display_name": "Python 3",
   "language": "python",
   "name": "python3"
  },
  "language_info": {
   "codemirror_mode": {
    "name": "ipython",
    "version": 3
   },
   "file_extension": ".py",
   "mimetype": "text/x-python",
   "name": "python",
   "nbconvert_exporter": "python",
   "pygments_lexer": "ipython3",
   "version": "3.6.5"
  }
 },
 "nbformat": 4,
 "nbformat_minor": 2
}
